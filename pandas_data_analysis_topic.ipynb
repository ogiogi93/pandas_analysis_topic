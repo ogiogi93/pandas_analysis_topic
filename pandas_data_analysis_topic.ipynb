{
 "cells": [
  {
   "cell_type": "markdown",
   "metadata": {},
   "source": [
    "## Pandasを使った実践データ分析"
   ]
  },
  {
   "cell_type": "code",
   "execution_count": 4,
   "metadata": {},
   "outputs": [],
   "source": [
    "import pandas as pd\n",
    "import datetime\n",
    "import numpy as np\n",
    "import random\n",
    "import matplotlib.pyplot as plt\n",
    "import json\n",
    "import requests\n",
    "import hashlib\n",
    "from tqdm import tqdm, tqdm_notebook\n",
    "\n",
    "%matplotlib inline"
   ]
  },
  {
   "cell_type": "code",
   "execution_count": 6,
   "metadata": {},
   "outputs": [],
   "source": [
    "# Kaggle上で公開されているFourSquareの行動ログデータを利用\n",
    "# https://www.kaggle.com/chetanism/foursquare-nyc-and-tokyo-checkin-dataset\n",
    "# データ数を30,000に絞っています\n",
    "df = pd.read_csv('data/dataset_TSMC2014_TKY.csv')[['userId', 'venueCategoryId','venueCategory', 'latitude', 'longitude', 'utcTimestamp']].ix[0:30000]"
   ]
  },
  {
   "cell_type": "code",
   "execution_count": 7,
   "metadata": {},
   "outputs": [],
   "source": [
    "# UTC-JSTに変換する\n",
    "df['timestamp'] = pd.DatetimeIndex(df.utcTimestamp).tz_localize('UTC').tz_convert('Asia/Tokyo')"
   ]
  },
  {
   "cell_type": "code",
   "execution_count": 8,
   "metadata": {},
   "outputs": [
    {
     "data": {
      "text/html": [
       "<div>\n",
       "<table border=\"1\" class=\"dataframe\">\n",
       "  <thead>\n",
       "    <tr style=\"text-align: right;\">\n",
       "      <th></th>\n",
       "      <th>userId</th>\n",
       "      <th>venueCategoryId</th>\n",
       "      <th>venueCategory</th>\n",
       "      <th>latitude</th>\n",
       "      <th>longitude</th>\n",
       "      <th>utcTimestamp</th>\n",
       "      <th>timestamp</th>\n",
       "    </tr>\n",
       "  </thead>\n",
       "  <tbody>\n",
       "    <tr>\n",
       "      <th>0</th>\n",
       "      <td>1541</td>\n",
       "      <td>4bf58dd8d48988d10c951735</td>\n",
       "      <td>Cosmetics Shop</td>\n",
       "      <td>35.705101</td>\n",
       "      <td>139.619590</td>\n",
       "      <td>Tue Apr 03 18:17:18 +0000 2012</td>\n",
       "      <td>2012-04-04 03:17:18+09:00</td>\n",
       "    </tr>\n",
       "    <tr>\n",
       "      <th>1</th>\n",
       "      <td>868</td>\n",
       "      <td>4bf58dd8d48988d1d1941735</td>\n",
       "      <td>Ramen /  Noodle House</td>\n",
       "      <td>35.715581</td>\n",
       "      <td>139.800317</td>\n",
       "      <td>Tue Apr 03 18:22:04 +0000 2012</td>\n",
       "      <td>2012-04-04 03:22:04+09:00</td>\n",
       "    </tr>\n",
       "    <tr>\n",
       "      <th>2</th>\n",
       "      <td>114</td>\n",
       "      <td>4d954b0ea243a5684a65b473</td>\n",
       "      <td>Convenience Store</td>\n",
       "      <td>35.714542</td>\n",
       "      <td>139.480065</td>\n",
       "      <td>Tue Apr 03 19:12:07 +0000 2012</td>\n",
       "      <td>2012-04-04 04:12:07+09:00</td>\n",
       "    </tr>\n",
       "  </tbody>\n",
       "</table>\n",
       "</div>"
      ],
      "text/plain": [
       "   userId           venueCategoryId          venueCategory   latitude  \\\n",
       "0    1541  4bf58dd8d48988d10c951735         Cosmetics Shop  35.705101   \n",
       "1     868  4bf58dd8d48988d1d1941735  Ramen /  Noodle House  35.715581   \n",
       "2     114  4d954b0ea243a5684a65b473      Convenience Store  35.714542   \n",
       "\n",
       "    longitude                    utcTimestamp                 timestamp  \n",
       "0  139.619590  Tue Apr 03 18:17:18 +0000 2012 2012-04-04 03:17:18+09:00  \n",
       "1  139.800317  Tue Apr 03 18:22:04 +0000 2012 2012-04-04 03:22:04+09:00  \n",
       "2  139.480065  Tue Apr 03 19:12:07 +0000 2012 2012-04-04 04:12:07+09:00  "
      ]
     },
     "execution_count": 8,
     "metadata": {},
     "output_type": "execute_result"
    }
   ],
   "source": [
    "df.head(3)"
   ]
  },
  {
   "cell_type": "markdown",
   "metadata": {},
   "source": [
    "## 基本処理\n",
    "- カラム名の変更(rename)\n",
    "- データの取り出し(query)\n",
    "- 条件にあった行に対しての処理(where)\n",
    "- 各行に関数を適用する(apply)"
   ]
  },
  {
   "cell_type": "code",
   "execution_count": 9,
   "metadata": {},
   "outputs": [],
   "source": [
    "# カラム名の変更(rename)\n",
    "df = df.rename(columns={'userId': 'user_id', 'venueCategoryId': 'venue_category_id', 'venueCategory': 'venue_category', 'latitude': 'lat', 'longitude': 'lng', \n",
    "                   'utcTimestamp': 'utc_timestamp'})"
   ]
  },
  {
   "cell_type": "markdown",
   "metadata": {},
   "source": [
    "- ユーザID (user_id)\n",
    "- 入店したお店のカテゴリID (venue_category_id)\n",
    "- 入店したお店のカテゴリ (venue_category)\n",
    "- お店の緯度・経度情報 (lat, lng)\n",
    "- 入店時刻 (timestamp)"
   ]
  },
  {
   "cell_type": "code",
   "execution_count": 10,
   "metadata": {},
   "outputs": [
    {
     "data": {
      "text/html": [
       "<div>\n",
       "<table border=\"1\" class=\"dataframe\">\n",
       "  <thead>\n",
       "    <tr style=\"text-align: right;\">\n",
       "      <th></th>\n",
       "      <th>user_id</th>\n",
       "      <th>venue_category</th>\n",
       "      <th>timestamp</th>\n",
       "    </tr>\n",
       "  </thead>\n",
       "  <tbody>\n",
       "    <tr>\n",
       "      <th>10</th>\n",
       "      <td>589</td>\n",
       "      <td>Airport</td>\n",
       "      <td>2012-04-04 04:59:06+09:00</td>\n",
       "    </tr>\n",
       "    <tr>\n",
       "      <th>32</th>\n",
       "      <td>1876</td>\n",
       "      <td>Subway</td>\n",
       "      <td>2012-04-04 05:59:52+09:00</td>\n",
       "    </tr>\n",
       "    <tr>\n",
       "      <th>34</th>\n",
       "      <td>499</td>\n",
       "      <td>Subway</td>\n",
       "      <td>2012-04-04 06:04:04+09:00</td>\n",
       "    </tr>\n",
       "  </tbody>\n",
       "</table>\n",
       "</div>"
      ],
      "text/plain": [
       "    user_id venue_category                 timestamp\n",
       "10      589        Airport 2012-04-04 04:59:06+09:00\n",
       "32     1876         Subway 2012-04-04 05:59:52+09:00\n",
       "34      499         Subway 2012-04-04 06:04:04+09:00"
      ]
     },
     "execution_count": 10,
     "metadata": {},
     "output_type": "execute_result"
    }
   ],
   "source": [
    "# データの取り出し(query)\n",
    "#venue_categoryがAirtportまたはSubwayである行を抽出する\n",
    "df.query(\"venue_category in ['Airport', 'Subway']\")[['user_id', 'venue_category', 'timestamp']].head(3)"
   ]
  },
  {
   "cell_type": "code",
   "execution_count": 27,
   "metadata": {},
   "outputs": [
    {
     "data": {
      "text/plain": [
       "user_id                                   int64\n",
       "venue_category_id                        object\n",
       "venue_category                           object\n",
       "lat                                     float64\n",
       "lng                                     float64\n",
       "utc_timestamp                            object\n",
       "timestamp            datetime64[ns, Asia/Tokyo]\n",
       "dtype: object"
      ]
     },
     "execution_count": 27,
     "metadata": {},
     "output_type": "execute_result"
    }
   ],
   "source": [
    "df.dtypes"
   ]
  },
  {
   "cell_type": "code",
   "execution_count": 11,
   "metadata": {},
   "outputs": [],
   "source": [
    "# 特定の条件にあった行に対しての処理(where)\n",
    "df2 = df.copy()\n",
    "\n",
    "#例: user_idが10以下の行に対して, +10加算する\n",
    "#条件を満たさない行(other)に対して処理が適用されます\n",
    "df2['test'] = df2['user_id'].where(cond=lambda x: x >10, other=lambda x: x + 10)"
   ]
  },
  {
   "cell_type": "code",
   "execution_count": 12,
   "metadata": {},
   "outputs": [
    {
     "data": {
      "text/html": [
       "<div>\n",
       "<table border=\"1\" class=\"dataframe\">\n",
       "  <thead>\n",
       "    <tr style=\"text-align: right;\">\n",
       "      <th></th>\n",
       "      <th>user_id</th>\n",
       "      <th>test</th>\n",
       "    </tr>\n",
       "  </thead>\n",
       "  <tbody>\n",
       "    <tr>\n",
       "      <th>9168</th>\n",
       "      <td>1</td>\n",
       "      <td>11</td>\n",
       "    </tr>\n",
       "  </tbody>\n",
       "</table>\n",
       "</div>"
      ],
      "text/plain": [
       "      user_id  test\n",
       "9168        1    11"
      ]
     },
     "execution_count": 12,
     "metadata": {},
     "output_type": "execute_result"
    }
   ],
   "source": [
    "#user_idが10以下の行であるため加算処理が適用される\n",
    "df2.sort_values('user_id', ascending=True)[['user_id', 'test']].head(1)"
   ]
  },
  {
   "cell_type": "code",
   "execution_count": 13,
   "metadata": {},
   "outputs": [
    {
     "data": {
      "text/html": [
       "<div>\n",
       "<table border=\"1\" class=\"dataframe\">\n",
       "  <thead>\n",
       "    <tr style=\"text-align: right;\">\n",
       "      <th></th>\n",
       "      <th>user_id</th>\n",
       "      <th>test</th>\n",
       "    </tr>\n",
       "  </thead>\n",
       "  <tbody>\n",
       "    <tr>\n",
       "      <th>3659</th>\n",
       "      <td>2292</td>\n",
       "      <td>2292</td>\n",
       "    </tr>\n",
       "  </tbody>\n",
       "</table>\n",
       "</div>"
      ],
      "text/plain": [
       "      user_id  test\n",
       "3659     2292  2292"
      ]
     },
     "execution_count": 13,
     "metadata": {},
     "output_type": "execute_result"
    }
   ],
   "source": [
    "#user_idが10以上の行であるため加算処理は適用されない\n",
    "df2.sort_values('user_id', ascending=True)[['user_id', 'test']].tail(1)"
   ]
  },
  {
   "cell_type": "code",
   "execution_count": 15,
   "metadata": {},
   "outputs": [
    {
     "data": {
      "text/html": [
       "<div>\n",
       "<table border=\"1\" class=\"dataframe\">\n",
       "  <thead>\n",
       "    <tr style=\"text-align: right;\">\n",
       "      <th></th>\n",
       "      <th>user_id</th>\n",
       "      <th>hash_user_id</th>\n",
       "    </tr>\n",
       "  </thead>\n",
       "  <tbody>\n",
       "    <tr>\n",
       "      <th>0</th>\n",
       "      <td>1541</td>\n",
       "      <td>1373b284bc381890049e92d324f56de0</td>\n",
       "    </tr>\n",
       "    <tr>\n",
       "      <th>1</th>\n",
       "      <td>868</td>\n",
       "      <td>dd45045f8c68db9f54e70c67048d32e8</td>\n",
       "    </tr>\n",
       "    <tr>\n",
       "      <th>2</th>\n",
       "      <td>114</td>\n",
       "      <td>5fd0b37cd7dbbb00f97ba6ce92bf5add</td>\n",
       "    </tr>\n",
       "  </tbody>\n",
       "</table>\n",
       "</div>"
      ],
      "text/plain": [
       "   user_id                      hash_user_id\n",
       "0     1541  1373b284bc381890049e92d324f56de0\n",
       "1      868  dd45045f8c68db9f54e70c67048d32e8\n",
       "2      114  5fd0b37cd7dbbb00f97ba6ce92bf5add"
      ]
     },
     "execution_count": 15,
     "metadata": {},
     "output_type": "execute_result"
    }
   ],
   "source": [
    "# 関数を適用する(apply)\n",
    "# 各行にuser_idをハッシュ化する関数を適用する\n",
    "def _hash(user_id):\n",
    "    return hashlib.md5(str(user_id).encode('utf-8')).hexdigest()\n",
    "\n",
    "df2['hash_user_id'] = df2['user_id'].apply(_hash)\n",
    "df2[['user_id', 'hash_user_id']].head(3)"
   ]
  },
  {
   "cell_type": "code",
   "execution_count": 36,
   "metadata": {},
   "outputs": [
    {
     "data": {
      "text/html": [
       "<div>\n",
       "<table border=\"1\" class=\"dataframe\">\n",
       "  <thead>\n",
       "    <tr style=\"text-align: right;\">\n",
       "      <th></th>\n",
       "      <th>lat</th>\n",
       "      <th>lng</th>\n",
       "      <th>country</th>\n",
       "    </tr>\n",
       "  </thead>\n",
       "  <tbody>\n",
       "    <tr>\n",
       "      <th>0</th>\n",
       "      <td>35.705101</td>\n",
       "      <td>139.619590</td>\n",
       "      <td>荻窪タウンセブン, 青梅街道, 善福寺, 杉並区, 東京都, 167-0043, 日本</td>\n",
       "    </tr>\n",
       "    <tr>\n",
       "      <th>1</th>\n",
       "      <td>35.715581</td>\n",
       "      <td>139.800317</td>\n",
       "      <td>ローソン, 言問通り, 台東区, 東京都, 111-0033, 日本</td>\n",
       "    </tr>\n",
       "    <tr>\n",
       "      <th>2</th>\n",
       "      <td>35.714542</td>\n",
       "      <td>139.480065</td>\n",
       "      <td>上水本町五丁目, 五日市街道, 花小金井6, 小平市, 東京都, 1890014, 日本</td>\n",
       "    </tr>\n",
       "  </tbody>\n",
       "</table>\n",
       "</div>"
      ],
      "text/plain": [
       "         lat         lng                                       country\n",
       "0  35.705101  139.619590   荻窪タウンセブン, 青梅街道, 善福寺, 杉並区, 東京都, 167-0043, 日本\n",
       "1  35.715581  139.800317            ローソン, 言問通り, 台東区, 東京都, 111-0033, 日本\n",
       "2  35.714542  139.480065  上水本町五丁目, 五日市街道, 花小金井6, 小平市, 東京都, 1890014, 日本"
      ]
     },
     "execution_count": 36,
     "metadata": {},
     "output_type": "execute_result"
    }
   ],
   "source": [
    "from geopy.geocoders import Nominatim\n",
    "geolocator = Nominatim()\n",
    "\n",
    "df3 = df2.ix[0:10].reset_index(drop=True)\n",
    "# 複数カラムに対して関数を適用する\n",
    "def gis_to_address(d):\n",
    "    gis = str(d['lat']) + ', ' + str(d['lng'])\n",
    "    try:\n",
    "        return geolocator.reverse(gis).address\n",
    "    except:\n",
    "        return None\n",
    "# 行に対するブロードキャストを指定する(axis=1)\n",
    "df3['country'] = df3.apply(gis_to_address, axis=1)\n",
    "df3[['lat', 'lng', 'country']].head(3)"
   ]
  },
  {
   "cell_type": "markdown",
   "metadata": {},
   "source": [
    "## Group By\n",
    "- 最大・最小値である行を抽出(first)\n",
    "- カラム毎に異なる集計を適用する(agg)\n",
    "- 標準化(正規化)処理を適用する(transform)"
   ]
  },
  {
   "cell_type": "code",
   "execution_count": 38,
   "metadata": {},
   "outputs": [
    {
     "data": {
      "text/html": [
       "<div>\n",
       "<table border=\"1\" class=\"dataframe\">\n",
       "  <thead>\n",
       "    <tr style=\"text-align: right;\">\n",
       "      <th></th>\n",
       "      <th>user_id</th>\n",
       "      <th>venue_category</th>\n",
       "      <th>timestamp</th>\n",
       "    </tr>\n",
       "  </thead>\n",
       "  <tbody>\n",
       "    <tr>\n",
       "      <th>0</th>\n",
       "      <td>1</td>\n",
       "      <td>Train Station</td>\n",
       "      <td>2012-04-08 21:24:53+09:00</td>\n",
       "    </tr>\n",
       "    <tr>\n",
       "      <th>1</th>\n",
       "      <td>2</td>\n",
       "      <td>Train Station</td>\n",
       "      <td>2012-04-13 20:03:36+09:00</td>\n",
       "    </tr>\n",
       "    <tr>\n",
       "      <th>2</th>\n",
       "      <td>3</td>\n",
       "      <td>Smoke Shop</td>\n",
       "      <td>2012-04-13 16:26:35+09:00</td>\n",
       "    </tr>\n",
       "    <tr>\n",
       "      <th>3</th>\n",
       "      <td>4</td>\n",
       "      <td>Arcade</td>\n",
       "      <td>2012-04-14 20:24:53+09:00</td>\n",
       "    </tr>\n",
       "    <tr>\n",
       "      <th>4</th>\n",
       "      <td>6</td>\n",
       "      <td>Train Station</td>\n",
       "      <td>2012-04-09 06:36:10+09:00</td>\n",
       "    </tr>\n",
       "  </tbody>\n",
       "</table>\n",
       "</div>"
      ],
      "text/plain": [
       "   user_id venue_category                 timestamp\n",
       "0        1  Train Station 2012-04-08 21:24:53+09:00\n",
       "1        2  Train Station 2012-04-13 20:03:36+09:00\n",
       "2        3     Smoke Shop 2012-04-13 16:26:35+09:00\n",
       "3        4         Arcade 2012-04-14 20:24:53+09:00\n",
       "4        6  Train Station 2012-04-09 06:36:10+09:00"
      ]
     },
     "execution_count": 38,
     "metadata": {},
     "output_type": "execute_result"
    }
   ],
   "source": [
    "# あるカラム毎に, あるカラム値が最大・最小値である行を抽出(groupby, first)\n",
    "# 対象のカラム値でsort→ 分割したいカラムを指定 → 分割したいカラムの各最初の行を抽出\n",
    "# ex. 各ユーザの最終地点(timestampが最後の行)を抽出する\n",
    "df.sort_values('timestamp', ascending=False).groupby(['user_id'], as_index=False).first()[['user_id', 'venue_category', 'timestamp']].head(5)"
   ]
  },
  {
   "cell_type": "code",
   "execution_count": 39,
   "metadata": {},
   "outputs": [
    {
     "data": {
      "text/html": [
       "<div>\n",
       "<table border=\"1\" class=\"dataframe\">\n",
       "  <thead>\n",
       "    <tr>\n",
       "      <th></th>\n",
       "      <th>venue_category</th>\n",
       "      <th colspan=\"2\" halign=\"left\">user_id</th>\n",
       "    </tr>\n",
       "    <tr>\n",
       "      <th></th>\n",
       "      <th></th>\n",
       "      <th>mean</th>\n",
       "      <th>median</th>\n",
       "    </tr>\n",
       "  </thead>\n",
       "  <tbody>\n",
       "    <tr>\n",
       "      <th>0</th>\n",
       "      <td>Airport</td>\n",
       "      <td>1.207921</td>\n",
       "      <td>1</td>\n",
       "    </tr>\n",
       "    <tr>\n",
       "      <th>1</th>\n",
       "      <td>American Restaurant</td>\n",
       "      <td>1.055556</td>\n",
       "      <td>1</td>\n",
       "    </tr>\n",
       "    <tr>\n",
       "      <th>2</th>\n",
       "      <td>Antique Shop</td>\n",
       "      <td>1.000000</td>\n",
       "      <td>1</td>\n",
       "    </tr>\n",
       "  </tbody>\n",
       "</table>\n",
       "</div>"
      ],
      "text/plain": [
       "        venue_category   user_id       \n",
       "                            mean median\n",
       "0              Airport  1.207921      1\n",
       "1  American Restaurant  1.055556      1\n",
       "2         Antique Shop  1.000000      1"
      ]
     },
     "execution_count": 39,
     "metadata": {},
     "output_type": "execute_result"
    }
   ],
   "source": [
    "# 1. Round関数を適用し、40分間隔に丸める\n",
    "df['15min'] = pd.DatetimeIndex(df['timestamp']).round('15min') \n",
    "\n",
    "# カラム毎に異なる集計を適用する(agg)\n",
    "number_of_people = df.groupby(['venue_category', '15min']).agg({'user_id': 'count'}).reset_index()\n",
    "number_of_people.groupby(['venue_category']).agg({'user_id':  ['mean', 'median']}).reset_index().head(3)"
   ]
  },
  {
   "cell_type": "code",
   "execution_count": 40,
   "metadata": {},
   "outputs": [
    {
     "data": {
      "text/html": [
       "<div>\n",
       "<table border=\"1\" class=\"dataframe\">\n",
       "  <thead>\n",
       "    <tr style=\"text-align: right;\">\n",
       "      <th></th>\n",
       "      <th>venue_category</th>\n",
       "      <th>15min</th>\n",
       "      <th>user_id</th>\n",
       "    </tr>\n",
       "  </thead>\n",
       "  <tbody>\n",
       "    <tr>\n",
       "      <th>10705</th>\n",
       "      <td>Subway</td>\n",
       "      <td>2012-04-04 07:30:00+09:00</td>\n",
       "      <td>8</td>\n",
       "    </tr>\n",
       "    <tr>\n",
       "      <th>10706</th>\n",
       "      <td>Subway</td>\n",
       "      <td>2012-04-04 07:45:00+09:00</td>\n",
       "      <td>12</td>\n",
       "    </tr>\n",
       "    <tr>\n",
       "      <th>10707</th>\n",
       "      <td>Subway</td>\n",
       "      <td>2012-04-04 08:00:00+09:00</td>\n",
       "      <td>12</td>\n",
       "    </tr>\n",
       "    <tr>\n",
       "      <th>10708</th>\n",
       "      <td>Subway</td>\n",
       "      <td>2012-04-04 08:15:00+09:00</td>\n",
       "      <td>12</td>\n",
       "    </tr>\n",
       "    <tr>\n",
       "      <th>10709</th>\n",
       "      <td>Subway</td>\n",
       "      <td>2012-04-04 08:30:00+09:00</td>\n",
       "      <td>12</td>\n",
       "    </tr>\n",
       "    <tr>\n",
       "      <th>10710</th>\n",
       "      <td>Subway</td>\n",
       "      <td>2012-04-04 08:45:00+09:00</td>\n",
       "      <td>20</td>\n",
       "    </tr>\n",
       "  </tbody>\n",
       "</table>\n",
       "</div>"
      ],
      "text/plain": [
       "      venue_category                     15min  user_id\n",
       "10705         Subway 2012-04-04 07:30:00+09:00        8\n",
       "10706         Subway 2012-04-04 07:45:00+09:00       12\n",
       "10707         Subway 2012-04-04 08:00:00+09:00       12\n",
       "10708         Subway 2012-04-04 08:15:00+09:00       12\n",
       "10709         Subway 2012-04-04 08:30:00+09:00       12\n",
       "10710         Subway 2012-04-04 08:45:00+09:00       20"
      ]
     },
     "execution_count": 40,
     "metadata": {},
     "output_type": "execute_result"
    }
   ],
   "source": [
    "number_of_people[number_of_people['venue_category'] == 'Subway'].ix[10705:10710]"
   ]
  },
  {
   "cell_type": "code",
   "execution_count": 41,
   "metadata": {},
   "outputs": [],
   "source": [
    "# 標準化(正規化)処理を適用する(transform)\n",
    "number_of_people = df.groupby(['venue_category', '15min']).agg({'user_id': 'count'}).reset_index()\n",
    "\n",
    "# カテゴリー毎に標準化処理を適用する\n",
    "zscore = lambda x: (x - x.mean()) / x.std()\n",
    "number_of_people['standarized_num_people']  = number_of_people.groupby('venue_category').transform(zscore)\n",
    "t = number_of_people[number_of_people['venue_category'] == 'Subway']\n",
    "t.columns = ['venue_category', '15min', 'num_people', 'standarized_num_people']"
   ]
  },
  {
   "cell_type": "code",
   "execution_count": 42,
   "metadata": {},
   "outputs": [
    {
     "data": {
      "text/html": [
       "<div>\n",
       "<table border=\"1\" class=\"dataframe\">\n",
       "  <thead>\n",
       "    <tr style=\"text-align: right;\">\n",
       "      <th></th>\n",
       "      <th>venue_category</th>\n",
       "      <th>15min</th>\n",
       "      <th>num_people</th>\n",
       "      <th>standarized_num_people</th>\n",
       "    </tr>\n",
       "  </thead>\n",
       "  <tbody>\n",
       "    <tr>\n",
       "      <th>10703</th>\n",
       "      <td>Subway</td>\n",
       "      <td>2012-04-04 07:00:00+09:00</td>\n",
       "      <td>3</td>\n",
       "      <td>-0.501261</td>\n",
       "    </tr>\n",
       "    <tr>\n",
       "      <th>10704</th>\n",
       "      <td>Subway</td>\n",
       "      <td>2012-04-04 07:15:00+09:00</td>\n",
       "      <td>4</td>\n",
       "      <td>-0.208489</td>\n",
       "    </tr>\n",
       "    <tr>\n",
       "      <th>10705</th>\n",
       "      <td>Subway</td>\n",
       "      <td>2012-04-04 07:30:00+09:00</td>\n",
       "      <td>8</td>\n",
       "      <td>0.962599</td>\n",
       "    </tr>\n",
       "    <tr>\n",
       "      <th>10706</th>\n",
       "      <td>Subway</td>\n",
       "      <td>2012-04-04 07:45:00+09:00</td>\n",
       "      <td>12</td>\n",
       "      <td>2.133688</td>\n",
       "    </tr>\n",
       "    <tr>\n",
       "      <th>10707</th>\n",
       "      <td>Subway</td>\n",
       "      <td>2012-04-04 08:00:00+09:00</td>\n",
       "      <td>12</td>\n",
       "      <td>2.133688</td>\n",
       "    </tr>\n",
       "    <tr>\n",
       "      <th>10708</th>\n",
       "      <td>Subway</td>\n",
       "      <td>2012-04-04 08:15:00+09:00</td>\n",
       "      <td>12</td>\n",
       "      <td>2.133688</td>\n",
       "    </tr>\n",
       "    <tr>\n",
       "      <th>10709</th>\n",
       "      <td>Subway</td>\n",
       "      <td>2012-04-04 08:30:00+09:00</td>\n",
       "      <td>12</td>\n",
       "      <td>2.133688</td>\n",
       "    </tr>\n",
       "    <tr>\n",
       "      <th>10710</th>\n",
       "      <td>Subway</td>\n",
       "      <td>2012-04-04 08:45:00+09:00</td>\n",
       "      <td>20</td>\n",
       "      <td>4.475866</td>\n",
       "    </tr>\n",
       "  </tbody>\n",
       "</table>\n",
       "</div>"
      ],
      "text/plain": [
       "      venue_category                     15min  num_people  \\\n",
       "10703         Subway 2012-04-04 07:00:00+09:00           3   \n",
       "10704         Subway 2012-04-04 07:15:00+09:00           4   \n",
       "10705         Subway 2012-04-04 07:30:00+09:00           8   \n",
       "10706         Subway 2012-04-04 07:45:00+09:00          12   \n",
       "10707         Subway 2012-04-04 08:00:00+09:00          12   \n",
       "10708         Subway 2012-04-04 08:15:00+09:00          12   \n",
       "10709         Subway 2012-04-04 08:30:00+09:00          12   \n",
       "10710         Subway 2012-04-04 08:45:00+09:00          20   \n",
       "\n",
       "       standarized_num_people  \n",
       "10703               -0.501261  \n",
       "10704               -0.208489  \n",
       "10705                0.962599  \n",
       "10706                2.133688  \n",
       "10707                2.133688  \n",
       "10708                2.133688  \n",
       "10709                2.133688  \n",
       "10710                4.475866  "
      ]
     },
     "execution_count": 42,
     "metadata": {},
     "output_type": "execute_result"
    }
   ],
   "source": [
    "t.ix[10703:10710]"
   ]
  },
  {
   "cell_type": "markdown",
   "metadata": {},
   "source": [
    "## 文字 \n",
    "- 大文字、小文字の置換. 文字数 str.lower(), upper(), len()\n",
    "- 文字列の置換 str.replace()\n",
    "- ある文字列を含む行を検索　str.match(), str.contains()"
   ]
  },
  {
   "cell_type": "code",
   "execution_count": 45,
   "metadata": {},
   "outputs": [
    {
     "data": {
      "text/plain": [
       "0           cosmetics shop\n",
       "1    ramen /  noodle house\n",
       "2        convenience store\n",
       "Name: venue_category, dtype: object"
      ]
     },
     "execution_count": 45,
     "metadata": {},
     "output_type": "execute_result"
    }
   ],
   "source": [
    "# 大文字、小文字の置換. 文字数 str.lower(), upper(), len()\n",
    "df['venue_category'].str.lower().head(3)"
   ]
  },
  {
   "cell_type": "code",
   "execution_count": 46,
   "metadata": {},
   "outputs": [
    {
     "data": {
      "text/plain": [
       "0           COSMETICS SHOP\n",
       "1    RAMEN /  NOODLE HOUSE\n",
       "2        CONVENIENCE STORE\n",
       "Name: venue_category, dtype: object"
      ]
     },
     "execution_count": 46,
     "metadata": {},
     "output_type": "execute_result"
    }
   ],
   "source": [
    "df['venue_category'].str.upper().head(3)"
   ]
  },
  {
   "cell_type": "code",
   "execution_count": 47,
   "metadata": {},
   "outputs": [
    {
     "data": {
      "text/plain": [
       "0    14\n",
       "1    21\n",
       "2    17\n",
       "Name: venue_category, dtype: int64"
      ]
     },
     "execution_count": 47,
     "metadata": {},
     "output_type": "execute_result"
    }
   ],
   "source": [
    "df['venue_category'].str.len().head(3)"
   ]
  },
  {
   "cell_type": "code",
   "execution_count": 48,
   "metadata": {},
   "outputs": [
    {
     "data": {
      "text/plain": [
       "0          Cosmetics Store\n",
       "1    Ramen /  Noodle House\n",
       "2        Convenience Store\n",
       "Name: venue_category, dtype: object"
      ]
     },
     "execution_count": 48,
     "metadata": {},
     "output_type": "execute_result"
    }
   ],
   "source": [
    "# 文字列の置換 str.replace()\n",
    "df['venue_category'].str.replace('Shop', 'Store').head(3)"
   ]
  },
  {
   "cell_type": "code",
   "execution_count": 49,
   "metadata": {},
   "outputs": [
    {
     "data": {
      "text/html": [
       "<div>\n",
       "<table border=\"1\" class=\"dataframe\">\n",
       "  <thead>\n",
       "    <tr style=\"text-align: right;\">\n",
       "      <th></th>\n",
       "      <th>user_id</th>\n",
       "      <th>venue_category_id</th>\n",
       "      <th>venue_category</th>\n",
       "      <th>lat</th>\n",
       "      <th>lng</th>\n",
       "      <th>utc_timestamp</th>\n",
       "      <th>timestamp</th>\n",
       "      <th>15min</th>\n",
       "    </tr>\n",
       "  </thead>\n",
       "  <tbody>\n",
       "    <tr>\n",
       "      <th>2</th>\n",
       "      <td>114</td>\n",
       "      <td>4d954b0ea243a5684a65b473</td>\n",
       "      <td>Convenience Store</td>\n",
       "      <td>35.714542</td>\n",
       "      <td>139.480065</td>\n",
       "      <td>Tue Apr 03 19:12:07 +0000 2012</td>\n",
       "      <td>2012-04-04 04:12:07+09:00</td>\n",
       "      <td>2012-04-04 04:15:00+09:00</td>\n",
       "    </tr>\n",
       "    <tr>\n",
       "      <th>5</th>\n",
       "      <td>1541</td>\n",
       "      <td>4bf58dd8d48988d1f8941735</td>\n",
       "      <td>Furniture / Home Store</td>\n",
       "      <td>35.705074</td>\n",
       "      <td>139.619502</td>\n",
       "      <td>Tue Apr 03 19:20:09 +0000 2012</td>\n",
       "      <td>2012-04-04 04:20:09+09:00</td>\n",
       "      <td>2012-04-04 04:15:00+09:00</td>\n",
       "    </tr>\n",
       "    <tr>\n",
       "      <th>6</th>\n",
       "      <td>1541</td>\n",
       "      <td>4d954b0ea243a5684a65b473</td>\n",
       "      <td>Convenience Store</td>\n",
       "      <td>35.706277</td>\n",
       "      <td>139.617782</td>\n",
       "      <td>Tue Apr 03 19:21:00 +0000 2012</td>\n",
       "      <td>2012-04-04 04:21:00+09:00</td>\n",
       "      <td>2012-04-04 04:15:00+09:00</td>\n",
       "    </tr>\n",
       "  </tbody>\n",
       "</table>\n",
       "</div>"
      ],
      "text/plain": [
       "   user_id         venue_category_id          venue_category        lat  \\\n",
       "2      114  4d954b0ea243a5684a65b473       Convenience Store  35.714542   \n",
       "5     1541  4bf58dd8d48988d1f8941735  Furniture / Home Store  35.705074   \n",
       "6     1541  4d954b0ea243a5684a65b473       Convenience Store  35.706277   \n",
       "\n",
       "          lng                   utc_timestamp                 timestamp  \\\n",
       "2  139.480065  Tue Apr 03 19:12:07 +0000 2012 2012-04-04 04:12:07+09:00   \n",
       "5  139.619502  Tue Apr 03 19:20:09 +0000 2012 2012-04-04 04:20:09+09:00   \n",
       "6  139.617782  Tue Apr 03 19:21:00 +0000 2012 2012-04-04 04:21:00+09:00   \n",
       "\n",
       "                      15min  \n",
       "2 2012-04-04 04:15:00+09:00  \n",
       "5 2012-04-04 04:15:00+09:00  \n",
       "6 2012-04-04 04:15:00+09:00  "
      ]
     },
     "execution_count": 49,
     "metadata": {},
     "output_type": "execute_result"
    }
   ],
   "source": [
    "# ある文字列を含む行を検索\n",
    "df[df['venue_category'].str.contains('Store')].head(3)"
   ]
  },
  {
   "cell_type": "markdown",
   "metadata": {},
   "source": [
    "## スタイル\n",
    "- 指定した条件に合致したセルに色をつける(style.applymap)\n",
    "- 最大値・最小値に色をつける(style.highlight_max)\n",
    "- 値に応じたbar　chartを表示する(style.bar)"
   ]
  },
  {
   "cell_type": "code",
   "execution_count": 50,
   "metadata": {},
   "outputs": [],
   "source": [
    "number_of_people['date'] = number_of_people['15min'].dt.date\n",
    "number_of_people2 = number_of_people.groupby(['venue_category']).agg({'user_id':  'std'}).reset_index().fillna(0).ix[0:5]"
   ]
  },
  {
   "cell_type": "code",
   "execution_count": 51,
   "metadata": {},
   "outputs": [
    {
     "data": {
      "text/html": [
       "\n",
       "        <style  type=\"text/css\" >\n",
       "        \n",
       "        \n",
       "            #T_b1a153de_3483_11e7_b985_f45c89ccd58frow0_col0 {\n",
       "            \n",
       "                color:  black;\n",
       "            \n",
       "            }\n",
       "        \n",
       "            #T_b1a153de_3483_11e7_b985_f45c89ccd58frow1_col0 {\n",
       "            \n",
       "                color:  black;\n",
       "            \n",
       "            }\n",
       "        \n",
       "            #T_b1a153de_3483_11e7_b985_f45c89ccd58frow2_col0 {\n",
       "            \n",
       "                color:  red;\n",
       "            \n",
       "            }\n",
       "        \n",
       "            #T_b1a153de_3483_11e7_b985_f45c89ccd58frow3_col0 {\n",
       "            \n",
       "                color:  red;\n",
       "            \n",
       "            }\n",
       "        \n",
       "            #T_b1a153de_3483_11e7_b985_f45c89ccd58frow4_col0 {\n",
       "            \n",
       "                color:  black;\n",
       "            \n",
       "            }\n",
       "        \n",
       "            #T_b1a153de_3483_11e7_b985_f45c89ccd58frow5_col0 {\n",
       "            \n",
       "                color:  black;\n",
       "            \n",
       "            }\n",
       "        \n",
       "        </style>\n",
       "\n",
       "        <table id=\"T_b1a153de_3483_11e7_b985_f45c89ccd58f\" None>\n",
       "        \n",
       "\n",
       "        <thead>\n",
       "            \n",
       "            <tr>\n",
       "                \n",
       "                \n",
       "                <th class=\"blank level0\" >\n",
       "                  \n",
       "                \n",
       "                \n",
       "                \n",
       "                <th class=\"col_heading level0 col0\" colspan=1>\n",
       "                  user_id\n",
       "                \n",
       "                \n",
       "            </tr>\n",
       "            \n",
       "            <tr>\n",
       "                \n",
       "                \n",
       "                <th class=\"index_name level0\" >\n",
       "                  venue_category\n",
       "                \n",
       "                \n",
       "                \n",
       "                <th class=\"blank\" >\n",
       "                  \n",
       "                \n",
       "                \n",
       "            </tr>\n",
       "            \n",
       "        </thead>\n",
       "        <tbody>\n",
       "            \n",
       "            <tr>\n",
       "                \n",
       "                \n",
       "                <th id=\"T_b1a153de_3483_11e7_b985_f45c89ccd58f\"\n",
       "                 class=\"row_heading level0 row0\" rowspan=1>\n",
       "                    Airport\n",
       "                \n",
       "                \n",
       "                \n",
       "                <td id=\"T_b1a153de_3483_11e7_b985_f45c89ccd58frow0_col0\"\n",
       "                 class=\"data row0 col0\" >\n",
       "                    0.496323\n",
       "                \n",
       "                \n",
       "            </tr>\n",
       "            \n",
       "            <tr>\n",
       "                \n",
       "                \n",
       "                <th id=\"T_b1a153de_3483_11e7_b985_f45c89ccd58f\"\n",
       "                 class=\"row_heading level0 row1\" rowspan=1>\n",
       "                    American Restaurant\n",
       "                \n",
       "                \n",
       "                \n",
       "                <td id=\"T_b1a153de_3483_11e7_b985_f45c89ccd58frow1_col0\"\n",
       "                 class=\"data row1 col0\" >\n",
       "                    0.235702\n",
       "                \n",
       "                \n",
       "            </tr>\n",
       "            \n",
       "            <tr>\n",
       "                \n",
       "                \n",
       "                <th id=\"T_b1a153de_3483_11e7_b985_f45c89ccd58f\"\n",
       "                 class=\"row_heading level0 row2\" rowspan=1>\n",
       "                    Antique Shop\n",
       "                \n",
       "                \n",
       "                \n",
       "                <td id=\"T_b1a153de_3483_11e7_b985_f45c89ccd58frow2_col0\"\n",
       "                 class=\"data row2 col0\" >\n",
       "                    0\n",
       "                \n",
       "                \n",
       "            </tr>\n",
       "            \n",
       "            <tr>\n",
       "                \n",
       "                \n",
       "                <th id=\"T_b1a153de_3483_11e7_b985_f45c89ccd58f\"\n",
       "                 class=\"row_heading level0 row3\" rowspan=1>\n",
       "                    Aquarium\n",
       "                \n",
       "                \n",
       "                \n",
       "                <td id=\"T_b1a153de_3483_11e7_b985_f45c89ccd58frow3_col0\"\n",
       "                 class=\"data row3 col0\" >\n",
       "                    0\n",
       "                \n",
       "                \n",
       "            </tr>\n",
       "            \n",
       "            <tr>\n",
       "                \n",
       "                \n",
       "                <th id=\"T_b1a153de_3483_11e7_b985_f45c89ccd58f\"\n",
       "                 class=\"row_heading level0 row4\" rowspan=1>\n",
       "                    Arcade\n",
       "                \n",
       "                \n",
       "                \n",
       "                <td id=\"T_b1a153de_3483_11e7_b985_f45c89ccd58frow4_col0\"\n",
       "                 class=\"data row4 col0\" >\n",
       "                    0.758351\n",
       "                \n",
       "                \n",
       "            </tr>\n",
       "            \n",
       "            <tr>\n",
       "                \n",
       "                \n",
       "                <th id=\"T_b1a153de_3483_11e7_b985_f45c89ccd58f\"\n",
       "                 class=\"row_heading level0 row5\" rowspan=1>\n",
       "                    Art Gallery\n",
       "                \n",
       "                \n",
       "                \n",
       "                <td id=\"T_b1a153de_3483_11e7_b985_f45c89ccd58frow5_col0\"\n",
       "                 class=\"data row5 col0\" >\n",
       "                    0.300406\n",
       "                \n",
       "                \n",
       "            </tr>\n",
       "            \n",
       "        </tbody>\n",
       "        </table>\n",
       "        "
      ],
      "text/plain": [
       "<pandas.formats.style.Styler at 0x1119dcf28>"
      ]
     },
     "execution_count": 51,
     "metadata": {},
     "output_type": "execute_result"
    }
   ],
   "source": [
    "def color_negative_red(val):\n",
    "    color = 'red' if val <= 0 else 'black'\n",
    "    return 'color: %s' % color\n",
    "\n",
    "# 指定した条件に合致したセルに色をつける(style.applymap)\n",
    "number_of_people3 = number_of_people2.set_index('venue_category')\n",
    "number_of_people3.style.applymap(color_negative_red)"
   ]
  },
  {
   "cell_type": "code",
   "execution_count": 52,
   "metadata": {},
   "outputs": [
    {
     "data": {
      "text/html": [
       "\n",
       "        <style  type=\"text/css\" >\n",
       "        \n",
       "        \n",
       "            #T_b3699fde_3483_11e7_aa61_f45c89ccd58frow4_col0 {\n",
       "            \n",
       "                background-color:  yellow;\n",
       "            \n",
       "            }\n",
       "        \n",
       "        </style>\n",
       "\n",
       "        <table id=\"T_b3699fde_3483_11e7_aa61_f45c89ccd58f\" None>\n",
       "        \n",
       "\n",
       "        <thead>\n",
       "            \n",
       "            <tr>\n",
       "                \n",
       "                \n",
       "                <th class=\"blank level0\" >\n",
       "                  \n",
       "                \n",
       "                \n",
       "                \n",
       "                <th class=\"col_heading level0 col0\" colspan=1>\n",
       "                  user_id\n",
       "                \n",
       "                \n",
       "            </tr>\n",
       "            \n",
       "            <tr>\n",
       "                \n",
       "                \n",
       "                <th class=\"index_name level0\" >\n",
       "                  venue_category\n",
       "                \n",
       "                \n",
       "                \n",
       "                <th class=\"blank\" >\n",
       "                  \n",
       "                \n",
       "                \n",
       "            </tr>\n",
       "            \n",
       "        </thead>\n",
       "        <tbody>\n",
       "            \n",
       "            <tr>\n",
       "                \n",
       "                \n",
       "                <th id=\"T_b3699fde_3483_11e7_aa61_f45c89ccd58f\"\n",
       "                 class=\"row_heading level0 row0\" rowspan=1>\n",
       "                    Airport\n",
       "                \n",
       "                \n",
       "                \n",
       "                <td id=\"T_b3699fde_3483_11e7_aa61_f45c89ccd58frow0_col0\"\n",
       "                 class=\"data row0 col0\" >\n",
       "                    0.496323\n",
       "                \n",
       "                \n",
       "            </tr>\n",
       "            \n",
       "            <tr>\n",
       "                \n",
       "                \n",
       "                <th id=\"T_b3699fde_3483_11e7_aa61_f45c89ccd58f\"\n",
       "                 class=\"row_heading level0 row1\" rowspan=1>\n",
       "                    American Restaurant\n",
       "                \n",
       "                \n",
       "                \n",
       "                <td id=\"T_b3699fde_3483_11e7_aa61_f45c89ccd58frow1_col0\"\n",
       "                 class=\"data row1 col0\" >\n",
       "                    0.235702\n",
       "                \n",
       "                \n",
       "            </tr>\n",
       "            \n",
       "            <tr>\n",
       "                \n",
       "                \n",
       "                <th id=\"T_b3699fde_3483_11e7_aa61_f45c89ccd58f\"\n",
       "                 class=\"row_heading level0 row2\" rowspan=1>\n",
       "                    Antique Shop\n",
       "                \n",
       "                \n",
       "                \n",
       "                <td id=\"T_b3699fde_3483_11e7_aa61_f45c89ccd58frow2_col0\"\n",
       "                 class=\"data row2 col0\" >\n",
       "                    0\n",
       "                \n",
       "                \n",
       "            </tr>\n",
       "            \n",
       "            <tr>\n",
       "                \n",
       "                \n",
       "                <th id=\"T_b3699fde_3483_11e7_aa61_f45c89ccd58f\"\n",
       "                 class=\"row_heading level0 row3\" rowspan=1>\n",
       "                    Aquarium\n",
       "                \n",
       "                \n",
       "                \n",
       "                <td id=\"T_b3699fde_3483_11e7_aa61_f45c89ccd58frow3_col0\"\n",
       "                 class=\"data row3 col0\" >\n",
       "                    0\n",
       "                \n",
       "                \n",
       "            </tr>\n",
       "            \n",
       "            <tr>\n",
       "                \n",
       "                \n",
       "                <th id=\"T_b3699fde_3483_11e7_aa61_f45c89ccd58f\"\n",
       "                 class=\"row_heading level0 row4\" rowspan=1>\n",
       "                    Arcade\n",
       "                \n",
       "                \n",
       "                \n",
       "                <td id=\"T_b3699fde_3483_11e7_aa61_f45c89ccd58frow4_col0\"\n",
       "                 class=\"data row4 col0\" >\n",
       "                    0.758351\n",
       "                \n",
       "                \n",
       "            </tr>\n",
       "            \n",
       "            <tr>\n",
       "                \n",
       "                \n",
       "                <th id=\"T_b3699fde_3483_11e7_aa61_f45c89ccd58f\"\n",
       "                 class=\"row_heading level0 row5\" rowspan=1>\n",
       "                    Art Gallery\n",
       "                \n",
       "                \n",
       "                \n",
       "                <td id=\"T_b3699fde_3483_11e7_aa61_f45c89ccd58frow5_col0\"\n",
       "                 class=\"data row5 col0\" >\n",
       "                    0.300406\n",
       "                \n",
       "                \n",
       "            </tr>\n",
       "            \n",
       "        </tbody>\n",
       "        </table>\n",
       "        "
      ],
      "text/plain": [
       "<pandas.formats.style.Styler at 0x1111abbe0>"
      ]
     },
     "execution_count": 52,
     "metadata": {},
     "output_type": "execute_result"
    }
   ],
   "source": [
    "# 最大値のセルに色をつける\n",
    "number_of_people3.style.highlight_max(axis=0)"
   ]
  },
  {
   "cell_type": "code",
   "execution_count": 53,
   "metadata": {},
   "outputs": [
    {
     "data": {
      "text/html": [
       "\n",
       "        <style  type=\"text/css\" >\n",
       "        \n",
       "        \n",
       "            #T_b433bad0_3483_11e7_bdb9_f45c89ccd58frow2_col0 {\n",
       "            \n",
       "                background-color:  yellow;\n",
       "            \n",
       "            }\n",
       "        \n",
       "            #T_b433bad0_3483_11e7_bdb9_f45c89ccd58frow3_col0 {\n",
       "            \n",
       "                background-color:  yellow;\n",
       "            \n",
       "            }\n",
       "        \n",
       "        </style>\n",
       "\n",
       "        <table id=\"T_b433bad0_3483_11e7_bdb9_f45c89ccd58f\" None>\n",
       "        \n",
       "\n",
       "        <thead>\n",
       "            \n",
       "            <tr>\n",
       "                \n",
       "                \n",
       "                <th class=\"blank level0\" >\n",
       "                  \n",
       "                \n",
       "                \n",
       "                \n",
       "                <th class=\"col_heading level0 col0\" colspan=1>\n",
       "                  user_id\n",
       "                \n",
       "                \n",
       "            </tr>\n",
       "            \n",
       "            <tr>\n",
       "                \n",
       "                \n",
       "                <th class=\"index_name level0\" >\n",
       "                  venue_category\n",
       "                \n",
       "                \n",
       "                \n",
       "                <th class=\"blank\" >\n",
       "                  \n",
       "                \n",
       "                \n",
       "            </tr>\n",
       "            \n",
       "        </thead>\n",
       "        <tbody>\n",
       "            \n",
       "            <tr>\n",
       "                \n",
       "                \n",
       "                <th id=\"T_b433bad0_3483_11e7_bdb9_f45c89ccd58f\"\n",
       "                 class=\"row_heading level0 row0\" rowspan=1>\n",
       "                    Airport\n",
       "                \n",
       "                \n",
       "                \n",
       "                <td id=\"T_b433bad0_3483_11e7_bdb9_f45c89ccd58frow0_col0\"\n",
       "                 class=\"data row0 col0\" >\n",
       "                    0.496323\n",
       "                \n",
       "                \n",
       "            </tr>\n",
       "            \n",
       "            <tr>\n",
       "                \n",
       "                \n",
       "                <th id=\"T_b433bad0_3483_11e7_bdb9_f45c89ccd58f\"\n",
       "                 class=\"row_heading level0 row1\" rowspan=1>\n",
       "                    American Restaurant\n",
       "                \n",
       "                \n",
       "                \n",
       "                <td id=\"T_b433bad0_3483_11e7_bdb9_f45c89ccd58frow1_col0\"\n",
       "                 class=\"data row1 col0\" >\n",
       "                    0.235702\n",
       "                \n",
       "                \n",
       "            </tr>\n",
       "            \n",
       "            <tr>\n",
       "                \n",
       "                \n",
       "                <th id=\"T_b433bad0_3483_11e7_bdb9_f45c89ccd58f\"\n",
       "                 class=\"row_heading level0 row2\" rowspan=1>\n",
       "                    Antique Shop\n",
       "                \n",
       "                \n",
       "                \n",
       "                <td id=\"T_b433bad0_3483_11e7_bdb9_f45c89ccd58frow2_col0\"\n",
       "                 class=\"data row2 col0\" >\n",
       "                    0\n",
       "                \n",
       "                \n",
       "            </tr>\n",
       "            \n",
       "            <tr>\n",
       "                \n",
       "                \n",
       "                <th id=\"T_b433bad0_3483_11e7_bdb9_f45c89ccd58f\"\n",
       "                 class=\"row_heading level0 row3\" rowspan=1>\n",
       "                    Aquarium\n",
       "                \n",
       "                \n",
       "                \n",
       "                <td id=\"T_b433bad0_3483_11e7_bdb9_f45c89ccd58frow3_col0\"\n",
       "                 class=\"data row3 col0\" >\n",
       "                    0\n",
       "                \n",
       "                \n",
       "            </tr>\n",
       "            \n",
       "            <tr>\n",
       "                \n",
       "                \n",
       "                <th id=\"T_b433bad0_3483_11e7_bdb9_f45c89ccd58f\"\n",
       "                 class=\"row_heading level0 row4\" rowspan=1>\n",
       "                    Arcade\n",
       "                \n",
       "                \n",
       "                \n",
       "                <td id=\"T_b433bad0_3483_11e7_bdb9_f45c89ccd58frow4_col0\"\n",
       "                 class=\"data row4 col0\" >\n",
       "                    0.758351\n",
       "                \n",
       "                \n",
       "            </tr>\n",
       "            \n",
       "            <tr>\n",
       "                \n",
       "                \n",
       "                <th id=\"T_b433bad0_3483_11e7_bdb9_f45c89ccd58f\"\n",
       "                 class=\"row_heading level0 row5\" rowspan=1>\n",
       "                    Art Gallery\n",
       "                \n",
       "                \n",
       "                \n",
       "                <td id=\"T_b433bad0_3483_11e7_bdb9_f45c89ccd58frow5_col0\"\n",
       "                 class=\"data row5 col0\" >\n",
       "                    0.300406\n",
       "                \n",
       "                \n",
       "            </tr>\n",
       "            \n",
       "        </tbody>\n",
       "        </table>\n",
       "        "
      ],
      "text/plain": [
       "<pandas.formats.style.Styler at 0x111bf37b8>"
      ]
     },
     "execution_count": 53,
     "metadata": {},
     "output_type": "execute_result"
    }
   ],
   "source": [
    "# 最小値のセルに色をつける\n",
    "number_of_people3.style.highlight_min(axis=0)"
   ]
  },
  {
   "cell_type": "code",
   "execution_count": 54,
   "metadata": {},
   "outputs": [
    {
     "data": {
      "text/html": [
       "\n",
       "        <style  type=\"text/css\" >\n",
       "        \n",
       "        \n",
       "            #T_b4fd2530_3483_11e7_8563_f45c89ccd58frow0_col0 {\n",
       "            \n",
       "                width:  10em;\n",
       "            \n",
       "                 height:  80%;\n",
       "            \n",
       "                background:  linear-gradient(90deg,#d65f5f 65.44764336643347%, transparent 0%);\n",
       "            \n",
       "            }\n",
       "        \n",
       "            #T_b4fd2530_3483_11e7_8563_f45c89ccd58frow1_col0 {\n",
       "            \n",
       "                width:  10em;\n",
       "            \n",
       "                 height:  80%;\n",
       "            \n",
       "                background:  linear-gradient(90deg,#d65f5f 31.080876627519366%, transparent 0%);\n",
       "            \n",
       "            }\n",
       "        \n",
       "            #T_b4fd2530_3483_11e7_8563_f45c89ccd58frow2_col0 {\n",
       "            \n",
       "                width:  10em;\n",
       "            \n",
       "                 height:  80%;\n",
       "            \n",
       "            }\n",
       "        \n",
       "            #T_b4fd2530_3483_11e7_8563_f45c89ccd58frow3_col0 {\n",
       "            \n",
       "                width:  10em;\n",
       "            \n",
       "                 height:  80%;\n",
       "            \n",
       "            }\n",
       "        \n",
       "            #T_b4fd2530_3483_11e7_8563_f45c89ccd58frow4_col0 {\n",
       "            \n",
       "                width:  10em;\n",
       "            \n",
       "                 height:  80%;\n",
       "            \n",
       "                background:  linear-gradient(90deg,#d65f5f 100.0%, transparent 0%);\n",
       "            \n",
       "            }\n",
       "        \n",
       "            #T_b4fd2530_3483_11e7_8563_f45c89ccd58frow5_col0 {\n",
       "            \n",
       "                width:  10em;\n",
       "            \n",
       "                 height:  80%;\n",
       "            \n",
       "                background:  linear-gradient(90deg,#d65f5f 39.61306491885317%, transparent 0%);\n",
       "            \n",
       "            }\n",
       "        \n",
       "        </style>\n",
       "\n",
       "        <table id=\"T_b4fd2530_3483_11e7_8563_f45c89ccd58f\" None>\n",
       "        \n",
       "\n",
       "        <thead>\n",
       "            \n",
       "            <tr>\n",
       "                \n",
       "                \n",
       "                <th class=\"blank level0\" >\n",
       "                  \n",
       "                \n",
       "                \n",
       "                \n",
       "                <th class=\"col_heading level0 col0\" colspan=1>\n",
       "                  user_id\n",
       "                \n",
       "                \n",
       "            </tr>\n",
       "            \n",
       "            <tr>\n",
       "                \n",
       "                \n",
       "                <th class=\"index_name level0\" >\n",
       "                  venue_category\n",
       "                \n",
       "                \n",
       "                \n",
       "                <th class=\"blank\" >\n",
       "                  \n",
       "                \n",
       "                \n",
       "            </tr>\n",
       "            \n",
       "        </thead>\n",
       "        <tbody>\n",
       "            \n",
       "            <tr>\n",
       "                \n",
       "                \n",
       "                <th id=\"T_b4fd2530_3483_11e7_8563_f45c89ccd58f\"\n",
       "                 class=\"row_heading level0 row0\" rowspan=1>\n",
       "                    Airport\n",
       "                \n",
       "                \n",
       "                \n",
       "                <td id=\"T_b4fd2530_3483_11e7_8563_f45c89ccd58frow0_col0\"\n",
       "                 class=\"data row0 col0\" >\n",
       "                    0.496323\n",
       "                \n",
       "                \n",
       "            </tr>\n",
       "            \n",
       "            <tr>\n",
       "                \n",
       "                \n",
       "                <th id=\"T_b4fd2530_3483_11e7_8563_f45c89ccd58f\"\n",
       "                 class=\"row_heading level0 row1\" rowspan=1>\n",
       "                    American Restaurant\n",
       "                \n",
       "                \n",
       "                \n",
       "                <td id=\"T_b4fd2530_3483_11e7_8563_f45c89ccd58frow1_col0\"\n",
       "                 class=\"data row1 col0\" >\n",
       "                    0.235702\n",
       "                \n",
       "                \n",
       "            </tr>\n",
       "            \n",
       "            <tr>\n",
       "                \n",
       "                \n",
       "                <th id=\"T_b4fd2530_3483_11e7_8563_f45c89ccd58f\"\n",
       "                 class=\"row_heading level0 row2\" rowspan=1>\n",
       "                    Antique Shop\n",
       "                \n",
       "                \n",
       "                \n",
       "                <td id=\"T_b4fd2530_3483_11e7_8563_f45c89ccd58frow2_col0\"\n",
       "                 class=\"data row2 col0\" >\n",
       "                    0\n",
       "                \n",
       "                \n",
       "            </tr>\n",
       "            \n",
       "            <tr>\n",
       "                \n",
       "                \n",
       "                <th id=\"T_b4fd2530_3483_11e7_8563_f45c89ccd58f\"\n",
       "                 class=\"row_heading level0 row3\" rowspan=1>\n",
       "                    Aquarium\n",
       "                \n",
       "                \n",
       "                \n",
       "                <td id=\"T_b4fd2530_3483_11e7_8563_f45c89ccd58frow3_col0\"\n",
       "                 class=\"data row3 col0\" >\n",
       "                    0\n",
       "                \n",
       "                \n",
       "            </tr>\n",
       "            \n",
       "            <tr>\n",
       "                \n",
       "                \n",
       "                <th id=\"T_b4fd2530_3483_11e7_8563_f45c89ccd58f\"\n",
       "                 class=\"row_heading level0 row4\" rowspan=1>\n",
       "                    Arcade\n",
       "                \n",
       "                \n",
       "                \n",
       "                <td id=\"T_b4fd2530_3483_11e7_8563_f45c89ccd58frow4_col0\"\n",
       "                 class=\"data row4 col0\" >\n",
       "                    0.758351\n",
       "                \n",
       "                \n",
       "            </tr>\n",
       "            \n",
       "            <tr>\n",
       "                \n",
       "                \n",
       "                <th id=\"T_b4fd2530_3483_11e7_8563_f45c89ccd58f\"\n",
       "                 class=\"row_heading level0 row5\" rowspan=1>\n",
       "                    Art Gallery\n",
       "                \n",
       "                \n",
       "                \n",
       "                <td id=\"T_b4fd2530_3483_11e7_8563_f45c89ccd58frow5_col0\"\n",
       "                 class=\"data row5 col0\" >\n",
       "                    0.300406\n",
       "                \n",
       "                \n",
       "            </tr>\n",
       "            \n",
       "        </tbody>\n",
       "        </table>\n",
       "        "
      ],
      "text/plain": [
       "<pandas.formats.style.Styler at 0x1129c1278>"
      ]
     },
     "execution_count": 54,
     "metadata": {},
     "output_type": "execute_result"
    }
   ],
   "source": [
    "# 値に応じたbar　chartを表示する(style.bar)\n",
    "number_of_people3.style.bar(subset=['user_id'], color='#d65f5f')"
   ]
  },
  {
   "cell_type": "markdown",
   "metadata": {},
   "source": [
    "## 時系列データ\n",
    "- 時間の丸め処理(round)\n",
    "- 変化量(diff)\n",
    "- 変化量_%(pct_change)\n",
    "- EMA(rolling)\n"
   ]
  },
  {
   "cell_type": "markdown",
   "metadata": {},
   "source": [
    "### 15分間隔ごとの来客人数を集計する"
   ]
  },
  {
   "cell_type": "code",
   "execution_count": 55,
   "metadata": {},
   "outputs": [
    {
     "data": {
      "text/html": [
       "<div>\n",
       "<table border=\"1\" class=\"dataframe\">\n",
       "  <thead>\n",
       "    <tr style=\"text-align: right;\">\n",
       "      <th></th>\n",
       "      <th>user_id</th>\n",
       "    </tr>\n",
       "    <tr>\n",
       "      <th>15min</th>\n",
       "      <th></th>\n",
       "    </tr>\n",
       "  </thead>\n",
       "  <tbody>\n",
       "    <tr>\n",
       "      <th>2012-04-04 03:15:00+09:00</th>\n",
       "      <td>2</td>\n",
       "    </tr>\n",
       "    <tr>\n",
       "      <th>2012-04-04 04:15:00+09:00</th>\n",
       "      <td>5</td>\n",
       "    </tr>\n",
       "    <tr>\n",
       "      <th>2012-04-04 04:30:00+09:00</th>\n",
       "      <td>1</td>\n",
       "    </tr>\n",
       "  </tbody>\n",
       "</table>\n",
       "</div>"
      ],
      "text/plain": [
       "                           user_id\n",
       "15min                             \n",
       "2012-04-04 03:15:00+09:00        2\n",
       "2012-04-04 04:15:00+09:00        5\n",
       "2012-04-04 04:30:00+09:00        1"
      ]
     },
     "execution_count": 55,
     "metadata": {},
     "output_type": "execute_result"
    }
   ],
   "source": [
    "# 1. Round関数を適用し、15分間隔に丸める\n",
    "df['15min'] = pd.DatetimeIndex(df['timestamp']).round('15min')  \n",
    "# 2. 15分間隔に丸めた時刻カラムでグルーピングし、カウント関数を適用する\n",
    "count_people_by_15min = df.groupby(by='15min').agg({'user_id': 'count'})\n",
    "count_people_by_15min.head(3)"
   ]
  },
  {
   "cell_type": "code",
   "execution_count": 56,
   "metadata": {},
   "outputs": [],
   "source": [
    "df['date'] = df['timestamp'].dt.date\n",
    "df['hour'] = df['timestamp'].dt.hour"
   ]
  },
  {
   "cell_type": "code",
   "execution_count": 57,
   "metadata": {},
   "outputs": [
    {
     "data": {
      "text/html": [
       "<div>\n",
       "<table border=\"1\" class=\"dataframe\">\n",
       "  <thead>\n",
       "    <tr style=\"text-align: right;\">\n",
       "      <th></th>\n",
       "      <th>user_id</th>\n",
       "      <th>venue_category</th>\n",
       "      <th>timestamp</th>\n",
       "      <th>date</th>\n",
       "      <th>hour</th>\n",
       "      <th>15min</th>\n",
       "    </tr>\n",
       "  </thead>\n",
       "  <tbody>\n",
       "    <tr>\n",
       "      <th>0</th>\n",
       "      <td>1541</td>\n",
       "      <td>Cosmetics Shop</td>\n",
       "      <td>2012-04-04 03:17:18+09:00</td>\n",
       "      <td>2012-04-04</td>\n",
       "      <td>3</td>\n",
       "      <td>2012-04-04 03:15:00+09:00</td>\n",
       "    </tr>\n",
       "    <tr>\n",
       "      <th>1</th>\n",
       "      <td>868</td>\n",
       "      <td>Ramen /  Noodle House</td>\n",
       "      <td>2012-04-04 03:22:04+09:00</td>\n",
       "      <td>2012-04-04</td>\n",
       "      <td>3</td>\n",
       "      <td>2012-04-04 03:15:00+09:00</td>\n",
       "    </tr>\n",
       "    <tr>\n",
       "      <th>2</th>\n",
       "      <td>114</td>\n",
       "      <td>Convenience Store</td>\n",
       "      <td>2012-04-04 04:12:07+09:00</td>\n",
       "      <td>2012-04-04</td>\n",
       "      <td>4</td>\n",
       "      <td>2012-04-04 04:15:00+09:00</td>\n",
       "    </tr>\n",
       "  </tbody>\n",
       "</table>\n",
       "</div>"
      ],
      "text/plain": [
       "   user_id         venue_category                 timestamp        date  hour  \\\n",
       "0     1541         Cosmetics Shop 2012-04-04 03:17:18+09:00  2012-04-04     3   \n",
       "1      868  Ramen /  Noodle House 2012-04-04 03:22:04+09:00  2012-04-04     3   \n",
       "2      114      Convenience Store 2012-04-04 04:12:07+09:00  2012-04-04     4   \n",
       "\n",
       "                      15min  \n",
       "0 2012-04-04 03:15:00+09:00  \n",
       "1 2012-04-04 03:15:00+09:00  \n",
       "2 2012-04-04 04:15:00+09:00  "
      ]
     },
     "execution_count": 57,
     "metadata": {},
     "output_type": "execute_result"
    }
   ],
   "source": [
    "df[['user_id', 'venue_category', 'timestamp','date' ,'hour', '15min']].head(3)"
   ]
  },
  {
   "cell_type": "markdown",
   "metadata": {},
   "source": [
    "### 移動平均や変化量を算出する "
   ]
  },
  {
   "cell_type": "code",
   "execution_count": 58,
   "metadata": {
    "collapsed": true
   },
   "outputs": [],
   "source": [
    "# MultindexをColumnに変換する\n",
    "count_people_by_15min = count_people_by_15min.reset_index()"
   ]
  },
  {
   "cell_type": "code",
   "execution_count": 59,
   "metadata": {},
   "outputs": [],
   "source": [
    "count_people_by_15min.columns = ['15min', 'num_of_people']"
   ]
  },
  {
   "cell_type": "code",
   "execution_count": 60,
   "metadata": {},
   "outputs": [],
   "source": [
    "# 変化量はdiff関数を適用する\n",
    "count_people_by_15min['change'] = count_people_by_15min['num_of_people'].diff()\n",
    "# 変化量(%)はpct_change関数を利用する\n",
    "count_people_by_15min['pct_change'] = count_people_by_15min['num_of_people'].pct_change()\n",
    "# 単純移動平均(EMA)はrolling_mean関数を利用する\n",
    "count_people_by_15min['rolling_mean'] = count_people_by_15min['num_of_people'].rolling(window=3, center=False).mean()"
   ]
  },
  {
   "cell_type": "code",
   "execution_count": 61,
   "metadata": {},
   "outputs": [
    {
     "data": {
      "text/html": [
       "<div>\n",
       "<table border=\"1\" class=\"dataframe\">\n",
       "  <thead>\n",
       "    <tr style=\"text-align: right;\">\n",
       "      <th></th>\n",
       "      <th>15min</th>\n",
       "      <th>num_of_people</th>\n",
       "      <th>change</th>\n",
       "      <th>pct_change</th>\n",
       "      <th>rolling_mean</th>\n",
       "    </tr>\n",
       "  </thead>\n",
       "  <tbody>\n",
       "    <tr>\n",
       "      <th>0</th>\n",
       "      <td>2012-04-04 03:15:00+09:00</td>\n",
       "      <td>2</td>\n",
       "      <td>NaN</td>\n",
       "      <td>NaN</td>\n",
       "      <td>NaN</td>\n",
       "    </tr>\n",
       "    <tr>\n",
       "      <th>1</th>\n",
       "      <td>2012-04-04 04:15:00+09:00</td>\n",
       "      <td>5</td>\n",
       "      <td>3.0</td>\n",
       "      <td>1.5</td>\n",
       "      <td>NaN</td>\n",
       "    </tr>\n",
       "    <tr>\n",
       "      <th>2</th>\n",
       "      <td>2012-04-04 04:30:00+09:00</td>\n",
       "      <td>1</td>\n",
       "      <td>-4.0</td>\n",
       "      <td>-0.8</td>\n",
       "      <td>2.666667</td>\n",
       "    </tr>\n",
       "    <tr>\n",
       "      <th>3</th>\n",
       "      <td>2012-04-04 04:45:00+09:00</td>\n",
       "      <td>2</td>\n",
       "      <td>1.0</td>\n",
       "      <td>1.0</td>\n",
       "      <td>2.666667</td>\n",
       "    </tr>\n",
       "    <tr>\n",
       "      <th>4</th>\n",
       "      <td>2012-04-04 05:00:00+09:00</td>\n",
       "      <td>2</td>\n",
       "      <td>0.0</td>\n",
       "      <td>0.0</td>\n",
       "      <td>1.666667</td>\n",
       "    </tr>\n",
       "  </tbody>\n",
       "</table>\n",
       "</div>"
      ],
      "text/plain": [
       "                      15min  num_of_people  change  pct_change  rolling_mean\n",
       "0 2012-04-04 03:15:00+09:00              2     NaN         NaN           NaN\n",
       "1 2012-04-04 04:15:00+09:00              5     3.0         1.5           NaN\n",
       "2 2012-04-04 04:30:00+09:00              1    -4.0        -0.8      2.666667\n",
       "3 2012-04-04 04:45:00+09:00              2     1.0         1.0      2.666667\n",
       "4 2012-04-04 05:00:00+09:00              2     0.0         0.0      1.666667"
      ]
     },
     "execution_count": 61,
     "metadata": {},
     "output_type": "execute_result"
    }
   ],
   "source": [
    "count_people_by_15min.head(5)"
   ]
  },
  {
   "cell_type": "markdown",
   "metadata": {},
   "source": [
    "### 3. カテゴリ別に上記指標を算出する"
   ]
  },
  {
   "cell_type": "code",
   "execution_count": 63,
   "metadata": {},
   "outputs": [],
   "source": [
    "count_people_div_15min_venue_category = df.groupby(['venue_category', '15min']).agg({'user_id': 'count'}).reset_index()\n",
    "\n",
    "count_people_div_15min_venue_category['change'] = count_people_div_15min_venue_category.groupby('venue_category')['user_id'].diff()\n",
    "count_people_div_15min_venue_category['pct_change'] = count_people_div_15min_venue_category.groupby('venue_category')['user_id'].pct_change()\n",
    "\n",
    "_rolling_mean = count_people_div_15min_venue_category.groupby('venue_category')['user_id'].rolling(window=3, center=False).mean()\n",
    "count_people_div_15min_venue_category['rolling_mean'] = _rolling_mean.reset_index(level=0, drop=True)"
   ]
  },
  {
   "cell_type": "code",
   "execution_count": 64,
   "metadata": {},
   "outputs": [
    {
     "data": {
      "text/html": [
       "<div>\n",
       "<table border=\"1\" class=\"dataframe\">\n",
       "  <thead>\n",
       "    <tr style=\"text-align: right;\">\n",
       "      <th></th>\n",
       "      <th>venue_category</th>\n",
       "      <th>15min</th>\n",
       "      <th>user_id</th>\n",
       "      <th>change</th>\n",
       "      <th>pct_change</th>\n",
       "      <th>rolling_mean</th>\n",
       "    </tr>\n",
       "  </thead>\n",
       "  <tbody>\n",
       "    <tr>\n",
       "      <th>10701</th>\n",
       "      <td>Subway</td>\n",
       "      <td>2012-04-04 06:00:00+09:00</td>\n",
       "      <td>2</td>\n",
       "      <td>NaN</td>\n",
       "      <td>NaN</td>\n",
       "      <td>NaN</td>\n",
       "    </tr>\n",
       "    <tr>\n",
       "      <th>10702</th>\n",
       "      <td>Subway</td>\n",
       "      <td>2012-04-04 06:45:00+09:00</td>\n",
       "      <td>2</td>\n",
       "      <td>0.0</td>\n",
       "      <td>0.000000</td>\n",
       "      <td>NaN</td>\n",
       "    </tr>\n",
       "    <tr>\n",
       "      <th>10703</th>\n",
       "      <td>Subway</td>\n",
       "      <td>2012-04-04 07:00:00+09:00</td>\n",
       "      <td>3</td>\n",
       "      <td>1.0</td>\n",
       "      <td>0.500000</td>\n",
       "      <td>2.333333</td>\n",
       "    </tr>\n",
       "    <tr>\n",
       "      <th>10704</th>\n",
       "      <td>Subway</td>\n",
       "      <td>2012-04-04 07:15:00+09:00</td>\n",
       "      <td>4</td>\n",
       "      <td>1.0</td>\n",
       "      <td>0.333333</td>\n",
       "      <td>3.000000</td>\n",
       "    </tr>\n",
       "    <tr>\n",
       "      <th>10705</th>\n",
       "      <td>Subway</td>\n",
       "      <td>2012-04-04 07:30:00+09:00</td>\n",
       "      <td>8</td>\n",
       "      <td>4.0</td>\n",
       "      <td>1.000000</td>\n",
       "      <td>5.000000</td>\n",
       "    </tr>\n",
       "  </tbody>\n",
       "</table>\n",
       "</div>"
      ],
      "text/plain": [
       "      venue_category                     15min  user_id  change  pct_change  \\\n",
       "10701         Subway 2012-04-04 06:00:00+09:00        2     NaN         NaN   \n",
       "10702         Subway 2012-04-04 06:45:00+09:00        2     0.0    0.000000   \n",
       "10703         Subway 2012-04-04 07:00:00+09:00        3     1.0    0.500000   \n",
       "10704         Subway 2012-04-04 07:15:00+09:00        4     1.0    0.333333   \n",
       "10705         Subway 2012-04-04 07:30:00+09:00        8     4.0    1.000000   \n",
       "\n",
       "       rolling_mean  \n",
       "10701           NaN  \n",
       "10702           NaN  \n",
       "10703      2.333333  \n",
       "10704      3.000000  \n",
       "10705      5.000000  "
      ]
     },
     "execution_count": 64,
     "metadata": {},
     "output_type": "execute_result"
    }
   ],
   "source": [
    "count_people_div_15min_venue_category[count_people_div_15min_venue_category['venue_category'] == 'Subway'].head(5)"
   ]
  },
  {
   "cell_type": "markdown",
   "metadata": {},
   "source": [
    "### 4. 可視化 "
   ]
  },
  {
   "cell_type": "code",
   "execution_count": 69,
   "metadata": {},
   "outputs": [
    {
     "data": {
      "image/png": "[encoded data removed]",
      "text/plain": [
       "<matplotlib.figure.Figure at 0x114d565c0>"
      ]
     },
     "metadata": {},
     "output_type": "display_data"
    }
   ],
   "source": [
    "import seaborn as sns\n",
    "import matplotlib.dates as mdates\n",
    "\n",
    "# Subset\n",
    "df_ts_plot = count_people_div_15min_venue_category.query(\"venue_category in ['Airport', 'Subway']\").reset_index(drop=True)\n",
    "\n",
    "# Setting for plotting\n",
    "df_ts_plot['dummy'] = 1.0\n",
    "df_ts_plot['date'] = df_ts_plot['15min'].apply(mdates.date2num)\n",
    "\n",
    "fig, ax = plt.subplots(figsize=(20, 5))\n",
    "sns.set_style('whitegrid')\n",
    "\n",
    "# Plot\n",
    "sns.tsplot(data=df_ts_plot, time='date', unit='dummy', condition='venue_category', value='user_id', ax=ax)\n",
    "\n",
    "# assign locator and formatter for the xaxis ticks.\n",
    "ax.xaxis.set_major_locator(mdates.AutoDateLocator())\n",
    "ax.xaxis.set_major_formatter(mdates.DateFormatter('%Y.%m.%d'))\n",
    "\n",
    "# put the labels at 45deg since they tend to be too long\n",
    "fig.autofmt_xdate()"
   ]
  },
  {
   "cell_type": "markdown",
   "metadata": {},
   "source": [
    "### おすすめライブラリ\n",
    "- 処理・経過情報をタイムバーで表示してくれるライブラリ(tqdm)\n",
    "- DataFrameをMarkdownで出力するライブラリ(pytablewriter)"
   ]
  },
  {
   "cell_type": "code",
   "execution_count": 115,
   "metadata": {
    "collapsed": true
   },
   "outputs": [],
   "source": [
    "# 処理・経過情報をタイムバーで表示してくれるライブラリ(tqdm)\n",
    "_df = pd.DataFrame(np.random.randint(0, 100, (100000, 6)))"
   ]
  },
  {
   "cell_type": "code",
   "execution_count": 109,
   "metadata": {},
   "outputs": [],
   "source": [
    "# pandasに適用する\n",
    "# https://pypi.python.org/pypi/tqdm#pandas-integration\n",
    "# Now you can use `progress_apply` instead of `apply`\n",
    "# and `progress_map` instead of `map`\n",
    "tqdm_notebook().pandas()"
   ]
  },
  {
   "cell_type": "code",
   "execution_count": 114,
   "metadata": {},
   "outputs": [],
   "source": [
    "def _test(t):\n",
    "    sleep(1.0)\n",
    "    return t**2\n",
    "# _df.progress_apply(_test)"
   ]
  },
  {
   "cell_type": "code",
   "execution_count": 381,
   "metadata": {},
   "outputs": [
    {
     "name": "stdout",
     "output_type": "stream",
     "text": [
      "venue_category|         15min          |user_id|change|pct_change|rolling_mean\n",
      "--------------|------------------------|------:|-----:|---------:|-----------:\n",
      "Airport       |2012-04-04T05:00:00+0900|      1|   NaN|       NaN|         NaN\n",
      "Airport       |2012-04-04T07:00:00+0900|      1|     0|         0|         NaN\n",
      "Airport       |2012-04-04T08:15:00+0900|      1|     0|         0|        1.00\n",
      "Airport       |2012-04-04T10:30:00+0900|      1|     0|         0|        1.00\n",
      "Airport       |2012-04-04T11:45:00+0900|      2|     1|         1|        1.33\n",
      "\n"
     ]
    }
   ],
   "source": [
    "import pytablewriter\n",
    "\n",
    "writer = pytablewriter.MarkdownTableWriter()\n",
    "writer.from_dataframe(count_people_div_15min_venue_category.head(5))\n",
    "writer.write_table()"
   ]
  },
  {
   "cell_type": "markdown",
   "metadata": {},
   "source": [
    "category|      15_interval       |user_id|change|pct_change|rolling_mean\n",
    "--------|------------------------|------:|-----:|---------:|-----------:\n",
    "Airport |2012-04-04T05:00:00+0900|      1|   NaN|       NaN|         NaN\n",
    "Airport |2012-04-04T07:00:00+0900|      1|     0|         0|         NaN\n",
    "Airport |2012-04-04T08:15:00+0900|      1|     0|         0|        1.00\n",
    "Airport |2012-04-04T10:30:00+0900|      1|     0|         0|        1.00\n",
    "Airport |2012-04-04T11:45:00+0900|      2|     1|         1|        1.33"
   ]
  },
  {
   "cell_type": "code",
   "execution_count": null,
   "metadata": {
    "collapsed": true
   },
   "outputs": [],
   "source": []
  }
 ],
 "metadata": {
  "kernelspec": {
   "display_name": "Python 3",
   "language": "python",
   "name": "python3"
  },
  "language_info": {
   "codemirror_mode": {
    "name": "ipython",
    "version": 3
   },
   "file_extension": ".py",
   "mimetype": "text/x-python",
   "name": "python",
   "nbconvert_exporter": "python",
   "pygments_lexer": "ipython3",
   "version": "3.5.2"
  }
 },
 "nbformat": 4,
 "nbformat_minor": 1
}
